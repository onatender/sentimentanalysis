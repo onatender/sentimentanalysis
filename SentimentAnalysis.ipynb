{
 "cells": [
  {
   "cell_type": "code",
   "execution_count": 23,
   "id": "2fc0878d-ba6a-4c6f-bf47-c2d600673f33",
   "metadata": {},
   "outputs": [],
   "source": [
    "import pandas as pd\n",
    "positivefile = open('reviews.pos','r',encoding='utf-8')\n",
    "positives = pd.DataFrame({\"reviews\": positivefile.readlines(), \"label\": \"pos\"})\n",
    "positives = pd.DataFrame(positives)"
   ]
  },
  {
   "cell_type": "code",
   "execution_count": 24,
   "id": "318f9578-f3e0-4c66-a119-9a705cef629a",
   "metadata": {},
   "outputs": [],
   "source": [
    "negativefile = open('reviews.neg','r',encoding='utf-8')\n",
    "negatives = pd.DataFrame({\"reviews\": negativefile.readlines(), \"label\": \"neg\"})\n",
    "negatives = pd.DataFrame(negatives)"
   ]
  },
  {
   "cell_type": "code",
   "execution_count": 55,
   "id": "00be13bd-e212-4e20-8cb8-30872ac37bee",
   "metadata": {},
   "outputs": [
    {
     "data": {
      "text/html": [
       "<div>\n",
       "<style scoped>\n",
       "    .dataframe tbody tr th:only-of-type {\n",
       "        vertical-align: middle;\n",
       "    }\n",
       "\n",
       "    .dataframe tbody tr th {\n",
       "        vertical-align: top;\n",
       "    }\n",
       "\n",
       "    .dataframe thead th {\n",
       "        text-align: right;\n",
       "    }\n",
       "</style>\n",
       "<table border=\"1\" class=\"dataframe\">\n",
       "  <thead>\n",
       "    <tr style=\"text-align: right;\">\n",
       "      <th></th>\n",
       "      <th>reviews</th>\n",
       "      <th>label</th>\n",
       "    </tr>\n",
       "  </thead>\n",
       "  <tbody>\n",
       "    <tr>\n",
       "      <th>0</th>\n",
       "      <td>beklentimin altında bir ürün kaliteli değil\\n</td>\n",
       "      <td>neg</td>\n",
       "    </tr>\n",
       "    <tr>\n",
       "      <th>1</th>\n",
       "      <td>3. kademe hız da motor titreme yapıyor.bu sebe...</td>\n",
       "      <td>neg</td>\n",
       "    </tr>\n",
       "    <tr>\n",
       "      <th>2</th>\n",
       "      <td>başlığı sabit durmuyor. arka koruma demiri üfl...</td>\n",
       "      <td>neg</td>\n",
       "    </tr>\n",
       "    <tr>\n",
       "      <th>3</th>\n",
       "      <td>ürün gayet kalitesiz öğrenci evinde aldığımız ...</td>\n",
       "      <td>neg</td>\n",
       "    </tr>\n",
       "    <tr>\n",
       "      <th>4</th>\n",
       "      <td>yuksek hizda kullanirken titredim yaptigi icin...</td>\n",
       "      <td>neg</td>\n",
       "    </tr>\n",
       "    <tr>\n",
       "      <th>...</th>\n",
       "      <td>...</td>\n",
       "      <td>...</td>\n",
       "    </tr>\n",
       "    <tr>\n",
       "      <th>14876</th>\n",
       "      <td>odada bu buhar makinası çalışırken uyumak kesi...</td>\n",
       "      <td>neg</td>\n",
       "    </tr>\n",
       "    <tr>\n",
       "      <th>14877</th>\n",
       "      <td>ürün gayet güzel ve sağlam.tek kusuru sesli ça...</td>\n",
       "      <td>neg</td>\n",
       "    </tr>\n",
       "    <tr>\n",
       "      <th>14878</th>\n",
       "      <td>hepsiburadaya tesekkurler\\n</td>\n",
       "      <td>neg</td>\n",
       "    </tr>\n",
       "    <tr>\n",
       "      <th>14879</th>\n",
       "      <td>çok ufak ve basit plastikten yapılmış. hiç kul...</td>\n",
       "      <td>neg</td>\n",
       "    </tr>\n",
       "    <tr>\n",
       "      <th>14880</th>\n",
       "      <td>fotoğrafta göründüğü gibi değil. i̇nce ve kesi...</td>\n",
       "      <td>neg</td>\n",
       "    </tr>\n",
       "  </tbody>\n",
       "</table>\n",
       "<p>14881 rows × 2 columns</p>\n",
       "</div>"
      ],
      "text/plain": [
       "                                                 reviews label\n",
       "0          beklentimin altında bir ürün kaliteli değil\\n   neg\n",
       "1      3. kademe hız da motor titreme yapıyor.bu sebe...   neg\n",
       "2      başlığı sabit durmuyor. arka koruma demiri üfl...   neg\n",
       "3      ürün gayet kalitesiz öğrenci evinde aldığımız ...   neg\n",
       "4      yuksek hizda kullanirken titredim yaptigi icin...   neg\n",
       "...                                                  ...   ...\n",
       "14876  odada bu buhar makinası çalışırken uyumak kesi...   neg\n",
       "14877  ürün gayet güzel ve sağlam.tek kusuru sesli ça...   neg\n",
       "14878                        hepsiburadaya tesekkurler\\n   neg\n",
       "14879  çok ufak ve basit plastikten yapılmış. hiç kul...   neg\n",
       "14880  fotoğrafta göründüğü gibi değil. i̇nce ve kesi...   neg\n",
       "\n",
       "[14881 rows x 2 columns]"
      ]
     },
     "execution_count": 55,
     "metadata": {},
     "output_type": "execute_result"
    }
   ],
   "source": [
    "negatives"
   ]
  },
  {
   "cell_type": "code",
   "execution_count": 56,
   "id": "224060e2-0333-4605-90f9-278350505872",
   "metadata": {},
   "outputs": [],
   "source": [
    "reviews = pd.concat([positives[:15000], negatives], ignore_index=True)\n"
   ]
  },
  {
   "cell_type": "code",
   "execution_count": 57,
   "id": "d2e5d3b9-0b03-49e8-a3cf-b3631be5caea",
   "metadata": {},
   "outputs": [
    {
     "data": {
      "text/html": [
       "<div>\n",
       "<style scoped>\n",
       "    .dataframe tbody tr th:only-of-type {\n",
       "        vertical-align: middle;\n",
       "    }\n",
       "\n",
       "    .dataframe tbody tr th {\n",
       "        vertical-align: top;\n",
       "    }\n",
       "\n",
       "    .dataframe thead th {\n",
       "        text-align: right;\n",
       "    }\n",
       "</style>\n",
       "<table border=\"1\" class=\"dataframe\">\n",
       "  <thead>\n",
       "    <tr style=\"text-align: right;\">\n",
       "      <th></th>\n",
       "      <th>reviews</th>\n",
       "      <th>label</th>\n",
       "    </tr>\n",
       "  </thead>\n",
       "  <tbody>\n",
       "    <tr>\n",
       "      <th>0</th>\n",
       "      <td>fena değil paraya göre iyi.\\n</td>\n",
       "      <td>pos</td>\n",
       "    </tr>\n",
       "    <tr>\n",
       "      <th>1</th>\n",
       "      <td>ürün kaliteli ve çok kullanışlı kargo ya veril...</td>\n",
       "      <td>pos</td>\n",
       "    </tr>\n",
       "    <tr>\n",
       "      <th>2</th>\n",
       "      <td>fiyat-performans karşılaştırması yaptığınızda ...</td>\n",
       "      <td>pos</td>\n",
       "    </tr>\n",
       "    <tr>\n",
       "      <th>3</th>\n",
       "      <td>bu fiyata çok iyi\\n</td>\n",
       "      <td>pos</td>\n",
       "    </tr>\n",
       "    <tr>\n",
       "      <th>4</th>\n",
       "      <td>fiyat ve performans olarak gayet iyi\\n</td>\n",
       "      <td>pos</td>\n",
       "    </tr>\n",
       "    <tr>\n",
       "      <th>...</th>\n",
       "      <td>...</td>\n",
       "      <td>...</td>\n",
       "    </tr>\n",
       "    <tr>\n",
       "      <th>29876</th>\n",
       "      <td>odada bu buhar makinası çalışırken uyumak kesi...</td>\n",
       "      <td>neg</td>\n",
       "    </tr>\n",
       "    <tr>\n",
       "      <th>29877</th>\n",
       "      <td>ürün gayet güzel ve sağlam.tek kusuru sesli ça...</td>\n",
       "      <td>neg</td>\n",
       "    </tr>\n",
       "    <tr>\n",
       "      <th>29878</th>\n",
       "      <td>hepsiburadaya tesekkurler\\n</td>\n",
       "      <td>neg</td>\n",
       "    </tr>\n",
       "    <tr>\n",
       "      <th>29879</th>\n",
       "      <td>çok ufak ve basit plastikten yapılmış. hiç kul...</td>\n",
       "      <td>neg</td>\n",
       "    </tr>\n",
       "    <tr>\n",
       "      <th>29880</th>\n",
       "      <td>fotoğrafta göründüğü gibi değil. i̇nce ve kesi...</td>\n",
       "      <td>neg</td>\n",
       "    </tr>\n",
       "  </tbody>\n",
       "</table>\n",
       "<p>29881 rows × 2 columns</p>\n",
       "</div>"
      ],
      "text/plain": [
       "                                                 reviews label\n",
       "0                          fena değil paraya göre iyi.\\n   pos\n",
       "1      ürün kaliteli ve çok kullanışlı kargo ya veril...   pos\n",
       "2      fiyat-performans karşılaştırması yaptığınızda ...   pos\n",
       "3                                    bu fiyata çok iyi\\n   pos\n",
       "4                 fiyat ve performans olarak gayet iyi\\n   pos\n",
       "...                                                  ...   ...\n",
       "29876  odada bu buhar makinası çalışırken uyumak kesi...   neg\n",
       "29877  ürün gayet güzel ve sağlam.tek kusuru sesli ça...   neg\n",
       "29878                        hepsiburadaya tesekkurler\\n   neg\n",
       "29879  çok ufak ve basit plastikten yapılmış. hiç kul...   neg\n",
       "29880  fotoğrafta göründüğü gibi değil. i̇nce ve kesi...   neg\n",
       "\n",
       "[29881 rows x 2 columns]"
      ]
     },
     "execution_count": 57,
     "metadata": {},
     "output_type": "execute_result"
    }
   ],
   "source": [
    "reviews"
   ]
  },
  {
   "cell_type": "code",
   "execution_count": 58,
   "id": "013f5f7d-6fcf-4a2c-924e-350ce7957b27",
   "metadata": {},
   "outputs": [
    {
     "data": {
      "text/plain": [
       "label\n",
       "pos    15000\n",
       "neg    14881\n",
       "Name: count, dtype: int64"
      ]
     },
     "execution_count": 58,
     "metadata": {},
     "output_type": "execute_result"
    }
   ],
   "source": [
    "reviews['label'].value_counts()"
   ]
  },
  {
   "cell_type": "code",
   "execution_count": 59,
   "id": "dce58e96-8c11-497b-acd8-2193ac8cde39",
   "metadata": {},
   "outputs": [],
   "source": [
    "import string\n",
    "import re\n",
    "import nltk\n",
    "from nltk.corpus import stopwords\n",
    "\n",
    "noktalama = string.punctuation\n",
    "etkisiz = stopwords.words('turkish')"
   ]
  },
  {
   "cell_type": "code",
   "execution_count": 60,
   "id": "e4632ef4-4e1d-487a-a458-7096054945f2",
   "metadata": {},
   "outputs": [
    {
     "name": "stdout",
     "output_type": "stream",
     "text": [
      "fena değil paraya göre iyi.\n",
      "\n",
      "-----------------\n",
      "fena değil paraya göre iyi. \n",
      "****************\n",
      "ürün kaliteli ve çok kullanışlı kargo ya verilmesi ve elime çabuk ulaşması da gayet başarılı idi\n",
      "\n",
      "-----------------\n",
      "ürün kaliteli kullanışlı kargo verilmesi elime çabuk ulaşması gayet başarılı idi \n",
      "****************\n",
      "fiyat-performans karşılaştırması yaptığınızda gayet iyi bir ürün. en önemlisi ısınma yapmıyor. \n",
      "\n",
      "-----------------\n",
      "fiyat-performans karşılaştırması yaptığınızda gayet iyi bir ürün. önemlisi ısınma yapmıyor. \n",
      "****************\n",
      "bu fiyata çok iyi\n",
      "\n",
      "-----------------\n",
      "fiyata iyi \n",
      "****************\n",
      "fiyat ve performans olarak gayet iyi\n",
      "\n",
      "-----------------\n",
      "fiyat performans olarak gayet iyi \n",
      "****************\n"
     ]
    }
   ],
   "source": [
    "for d in reviews['reviews'].head():\n",
    "    print(d+'\\n-----------------')\n",
    "    temp = ''\n",
    "    for word in d.split():\n",
    "        if word not in etkisiz and not word.isnumeric():\n",
    "            temp+= word + ' '\n",
    "    print(temp + '\\n****************')"
   ]
  },
  {
   "cell_type": "code",
   "execution_count": 61,
   "id": "051a8ec7-51a3-4fb2-ad39-1f774a3e7d79",
   "metadata": {},
   "outputs": [
    {
     "name": "stdout",
     "output_type": "stream",
     "text": [
      "fena değil paraya göre iyi.\n",
      "\n",
      "------------\n",
      "fena değil paraya göre iyi\n",
      "\n",
      "************\n",
      "ürün kaliteli ve çok kullanışlı kargo ya verilmesi ve elime çabuk ulaşması da gayet başarılı idi\n",
      "\n",
      "------------\n",
      "ürün kaliteli ve çok kullanışlı kargo ya verilmesi ve elime çabuk ulaşması da gayet başarılı idi\n",
      "\n",
      "************\n",
      "fiyat-performans karşılaştırması yaptığınızda gayet iyi bir ürün. en önemlisi ısınma yapmıyor. \n",
      "\n",
      "------------\n",
      "fiyatperformans karşılaştırması yaptığınızda gayet iyi bir ürün en önemlisi ısınma yapmıyor \n",
      "\n",
      "************\n",
      "bu fiyata çok iyi\n",
      "\n",
      "------------\n",
      "bu fiyata çok iyi\n",
      "\n",
      "************\n",
      "fiyat ve performans olarak gayet iyi\n",
      "\n",
      "------------\n",
      "fiyat ve performans olarak gayet iyi\n",
      "\n",
      "************\n"
     ]
    }
   ],
   "source": [
    "for d in reviews['reviews'].head():\n",
    "    print(d+'\\n------------')\n",
    "    temp=''\n",
    "    for word in d:\n",
    "        if word not in noktalama:\n",
    "            temp+=word\n",
    "    print(temp+'\\n************')\n",
    "    d=temp"
   ]
  },
  {
   "cell_type": "code",
   "execution_count": 62,
   "id": "993ce012-ce56-406c-9ba1-bd40a9921880",
   "metadata": {},
   "outputs": [],
   "source": [
    "reviews.to_csv(r'./cleaned.csv',index=False)"
   ]
  },
  {
   "cell_type": "code",
   "execution_count": 63,
   "id": "ce48b635-149f-4834-b8e0-baf209464ab4",
   "metadata": {},
   "outputs": [
    {
     "name": "stdout",
     "output_type": "stream",
     "text": [
      "                                              review  label\n",
      "0                                            reviews  label\n",
      "1                      fena değil paraya göre iyi.\\n    pos\n",
      "2  ürün kaliteli ve çok kullanışlı kargo ya veril...    pos\n",
      "3  fiyat-performans karşılaştırması yaptığınızda ...    pos\n",
      "4                                bu fiyata çok iyi\\n    pos\n"
     ]
    }
   ],
   "source": [
    "import pandas as pd\n",
    "data = pd.read_csv('cleaned.csv',sep=',',names=['review','label'])\n",
    "print(data.head())"
   ]
  },
  {
   "cell_type": "code",
   "execution_count": 64,
   "id": "0197c64f-4aac-4073-bb1e-28ff1bff24fb",
   "metadata": {},
   "outputs": [],
   "source": [
    "from sklearn.model_selection import train_test_split"
   ]
  },
  {
   "cell_type": "code",
   "execution_count": 65,
   "id": "20983c4a-c0f8-409c-bf38-561ca1fa1ca9",
   "metadata": {},
   "outputs": [],
   "source": [
    "X_train,X_test,y_train,y_test = train_test_split(data['review'].values.astype('U'),data['label'].values.astype('U'),test_size=0.1,random_state=42)"
   ]
  },
  {
   "cell_type": "code",
   "execution_count": 66,
   "id": "49e00712-5c11-47d1-aca8-f85fa2234f06",
   "metadata": {},
   "outputs": [
    {
     "data": {
      "text/plain": [
       "(26893,)"
      ]
     },
     "execution_count": 66,
     "metadata": {},
     "output_type": "execute_result"
    }
   ],
   "source": [
    "X_train.shape"
   ]
  },
  {
   "cell_type": "code",
   "execution_count": 67,
   "id": "23abfe6c-f7ef-478b-80eb-c90df50e6c99",
   "metadata": {},
   "outputs": [
    {
     "data": {
      "text/plain": [
       "(2989,)"
      ]
     },
     "execution_count": 67,
     "metadata": {},
     "output_type": "execute_result"
    }
   ],
   "source": [
    "X_test.shape"
   ]
  },
  {
   "cell_type": "code",
   "execution_count": 68,
   "id": "ca912dbb-b51b-4048-a6f2-6a28db757b01",
   "metadata": {},
   "outputs": [],
   "source": [
    "from sklearn.feature_extraction.text import CountVectorizer"
   ]
  },
  {
   "cell_type": "code",
   "execution_count": 69,
   "id": "de8075ba-61c3-4e62-82a7-c633f40e2f36",
   "metadata": {},
   "outputs": [
    {
     "name": "stdout",
     "output_type": "stream",
     "text": [
      "(26893, 55650)\n"
     ]
    }
   ],
   "source": [
    "count_vect = CountVectorizer()\n",
    "X_train_counts = count_vect.fit_transform(X_train)\n",
    "print(X_train_counts.shape)"
   ]
  },
  {
   "cell_type": "code",
   "execution_count": 70,
   "id": "c03ba836-06a9-4ecb-b7fe-73f496984f0b",
   "metadata": {},
   "outputs": [
    {
     "name": "stdout",
     "output_type": "stream",
     "text": [
      "(26893, 55650)\n"
     ]
    }
   ],
   "source": [
    "from sklearn.feature_extraction.text import TfidfTransformer\n",
    "tfidf_transformer = TfidfTransformer()\n",
    "X_train_tfidf = tfidf_transformer.fit_transform(X_train_counts)\n",
    "print(X_train_tfidf.shape)"
   ]
  },
  {
   "cell_type": "code",
   "execution_count": 71,
   "id": "c3a23424-2f09-4578-85d7-0eb4fc1cf85f",
   "metadata": {},
   "outputs": [],
   "source": [
    "from sklearn.naive_bayes import MultinomialNB\n",
    "clf = MultinomialNB().fit(X_train_tfidf,y_train)\n",
    "X_test_counts = count_vect.transform(X_test)\n",
    "X_test_tfidf = tfidf_transformer.transform(X_test_counts)"
   ]
  },
  {
   "cell_type": "code",
   "execution_count": 72,
   "id": "cd5191f0-c263-4c2a-88b5-e2417d06dfbc",
   "metadata": {},
   "outputs": [
    {
     "name": "stdout",
     "output_type": "stream",
     "text": [
      "'ürünü aldım fiyatına göre bi ürün ve bu fiyata da bu ürün iyi sayılır. ürün hakkında kısa bilgi şöle olur. normal paspas gibi 2-3 mmlik bi kalınllıgı yok ama 2-3 mmlik kabartmalı bi ürün. ürün kalınlıgı ise 1mm dir. 2mm ye hayatta ulasmaz. ama alındıgında pişman olunacak bi ürün degil tavsiye ederim\\n' => neg\n",
      "'android 5 kurulu şarjı çok çabuk bitiyor.  isınma problemi çok fazla hadi bunları geçtim.  rehber donuyor.  arayanın ismi sonradan çıkıyor kişilere giriyorsunuz artık ne zaman açarsa ekran donuyor.\\n' => neg\n",
      "\"ürünü çok iyi diye aldım fakat çek'im gücü azaldı ilk başlardaki gibi degil kullanalı iki ay oldu.\\n\" => neg\n",
      "'abi bu fiyata kaliteli bisey diye aldım ama sivilce yapıyor güneş kremiyle uzaktan yakından alakası yok....\\n' => neg\n",
      "'duvarda denedim, hemen geri sökmeme rağmen boyayla birlikte ayrıldı. kapı dolap gibi tahta malzemelerde iyi yapışıyor. atölyelerde alet edavat yapıştırılabilir. gerçekten tekrar kullanılabiliyor. duvara birşeyler yapıştırmak için almayın derim.  \\n' => neg\n"
     ]
    }
   ],
   "source": [
    "y_pred = clf.predict(X_test_tfidf)\n",
    "for review , sentiment in zip(X_test[:5],y_pred[:]):\n",
    "    print('%r => %s' % (review,sentiment))"
   ]
  },
  {
   "cell_type": "code",
   "execution_count": 73,
   "id": "56e85a8e-f4f7-4919-af38-f87e77010ca7",
   "metadata": {},
   "outputs": [
    {
     "name": "stdout",
     "output_type": "stream",
     "text": [
      "0.8782201405152225\n"
     ]
    }
   ],
   "source": [
    "from sklearn.metrics import accuracy_score\n",
    "print(accuracy_score(y_test,y_pred))"
   ]
  },
  {
   "cell_type": "code",
   "execution_count": 89,
   "id": "9c9f9dc0-68f6-452c-a87c-638d5250186b",
   "metadata": {},
   "outputs": [],
   "source": [
    "def öğren(mesaj):\n",
    "    X_test = [mesaj]\n",
    "    X_test_counts = count_vect.transform(X_test)\n",
    "    X_test_tfidf = tfidf_transformer.transform(X_test_counts)\n",
    "    y_pred = clf.predict(X_test_tfidf)\n",
    "    if y_pred[0] == 'pos': \n",
    "        return 'Pozitif'\n",
    "    else: \n",
    "        return 'Negatif'"
   ]
  },
  {
   "cell_type": "code",
   "execution_count": 92,
   "id": "36569ad7-d6b1-42ed-9bc6-55cc4d6c129d",
   "metadata": {},
   "outputs": [
    {
     "name": "stdout",
     "output_type": "stream",
     "text": [
      "['pos']\n"
     ]
    },
    {
     "data": {
      "text/plain": [
       "'Pozitif'"
      ]
     },
     "execution_count": 92,
     "metadata": {},
     "output_type": "execute_result"
    }
   ],
   "source": [
    "öğren('Çok memnun kaldım')"
   ]
  },
  {
   "cell_type": "code",
   "execution_count": 93,
   "id": "57123fe9-19d6-4ff9-a273-8e09c5c23389",
   "metadata": {},
   "outputs": [
    {
     "name": "stdout",
     "output_type": "stream",
     "text": [
      "['neg']\n"
     ]
    },
    {
     "data": {
      "text/plain": [
       "'Negatif'"
      ]
     },
     "execution_count": 93,
     "metadata": {},
     "output_type": "execute_result"
    }
   ],
   "source": [
    "öğren('Rezalet resmen')"
   ]
  },
  {
   "cell_type": "code",
   "execution_count": 94,
   "id": "64d41c48-0bf0-422f-a2c8-f5b04ab31cc3",
   "metadata": {},
   "outputs": [
    {
     "name": "stdout",
     "output_type": "stream",
     "text": [
      "['pos']\n"
     ]
    },
    {
     "data": {
      "text/plain": [
       "'Pozitif'"
      ]
     },
     "execution_count": 94,
     "metadata": {},
     "output_type": "execute_result"
    }
   ],
   "source": [
    "öğren('Güzel ürün iyi kargolama')"
   ]
  },
  {
   "cell_type": "code",
   "execution_count": 95,
   "id": "0c7a0a2c-ff30-48f1-bc6b-5f23d9aa710e",
   "metadata": {},
   "outputs": [
    {
     "name": "stdout",
     "output_type": "stream",
     "text": [
      "['pos']\n"
     ]
    },
    {
     "data": {
      "text/plain": [
       "'Pozitif'"
      ]
     },
     "execution_count": 95,
     "metadata": {},
     "output_type": "execute_result"
    }
   ],
   "source": [
    "öğren('tavsiye ederim')"
   ]
  }
 ],
 "metadata": {
  "kernelspec": {
   "display_name": "Python 3 (ipykernel)",
   "language": "python",
   "name": "python3"
  },
  "language_info": {
   "codemirror_mode": {
    "name": "ipython",
    "version": 3
   },
   "file_extension": ".py",
   "mimetype": "text/x-python",
   "name": "python",
   "nbconvert_exporter": "python",
   "pygments_lexer": "ipython3",
   "version": "3.11.3"
  }
 },
 "nbformat": 4,
 "nbformat_minor": 5
}
